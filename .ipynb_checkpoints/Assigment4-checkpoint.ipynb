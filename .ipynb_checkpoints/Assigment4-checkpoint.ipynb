{
 "cells": [
  {
   "cell_type": "markdown",
   "id": "7c04e9a7-8ce7-439f-b214-8bf6da4c85f0",
   "metadata": {},
   "source": [
    "Assigment 4"
   ]
  },
  {
   "cell_type": "code",
   "execution_count": 195,
   "id": "31798ced-f8f2-4290-967f-436d0e706436",
   "metadata": {},
   "outputs": [],
   "source": [
    "#4_1"
   ]
  },
  {
   "cell_type": "code",
   "execution_count": 196,
   "id": "a8604c47-3b46-4524-98f8-ff7775ac59f5",
   "metadata": {},
   "outputs": [],
   "source": [
    "guests=['Muskan','Azalfa','Kainat']"
   ]
  },
  {
   "cell_type": "code",
   "execution_count": 197,
   "id": "15492a5b-f3e8-46ac-a2d5-f47ae57a6e2a",
   "metadata": {},
   "outputs": [
    {
     "data": {
      "text/plain": [
       "['Muskan', 'Azalfa', 'Kainat']"
      ]
     },
     "execution_count": 197,
     "metadata": {},
     "output_type": "execute_result"
    }
   ],
   "source": [
    "guests"
   ]
  },
  {
   "cell_type": "code",
   "execution_count": 198,
   "id": "0e7abb07-057b-4918-9cec-66913aa0bd95",
   "metadata": {},
   "outputs": [],
   "source": [
    "guest_1='Muskan'"
   ]
  },
  {
   "cell_type": "code",
   "execution_count": 199,
   "id": "54d0e0d5-a0fc-4db1-a322-b652c05a183d",
   "metadata": {},
   "outputs": [],
   "source": [
    "guest_2='Azalfa'"
   ]
  },
  {
   "cell_type": "code",
   "execution_count": 200,
   "id": "f7082d35-5943-4542-b170-b743b00c8db4",
   "metadata": {},
   "outputs": [],
   "source": [
    "guest_3='Kainat'"
   ]
  },
  {
   "cell_type": "code",
   "execution_count": 201,
   "id": "32200bfb-1f53-4cf4-8039-e0acd57f25d1",
   "metadata": {},
   "outputs": [
    {
     "name": "stdout",
     "output_type": "stream",
     "text": [
      "you're invited for the dinner\n"
     ]
    }
   ],
   "source": [
    "if guest_1=='Muskan' and guest_2=='Azalfa' and guest_3=='Kainat':\n",
    "    print(\"you're invited for the dinner\")"
   ]
  },
  {
   "cell_type": "code",
   "execution_count": 202,
   "id": "89d6cb17-27d5-4df4-8004-8773f388515d",
   "metadata": {},
   "outputs": [],
   "source": [
    " #4_2"
   ]
  },
  {
   "cell_type": "code",
   "execution_count": 203,
   "id": "db125eef-adeb-4b16-901a-b287413f8773",
   "metadata": {},
   "outputs": [
    {
     "data": {
      "text/plain": [
       "['Muskan', 'Azalfa', 'Kainat']"
      ]
     },
     "execution_count": 203,
     "metadata": {},
     "output_type": "execute_result"
    }
   ],
   "source": [
    "guests"
   ]
  },
  {
   "cell_type": "code",
   "execution_count": 204,
   "id": "5debba28-a14a-4893-bbef-dbbd95509c8c",
   "metadata": {},
   "outputs": [],
   "source": [
    "guests.remove('Kainat')"
   ]
  },
  {
   "cell_type": "code",
   "execution_count": 205,
   "id": "9a233c33-2f05-4615-a387-7e61b50a32e3",
   "metadata": {},
   "outputs": [],
   "source": [
    "guests.append('Sana')"
   ]
  },
  {
   "cell_type": "code",
   "execution_count": 206,
   "id": "966f3891-d195-4e84-b6b6-a6561daf6680",
   "metadata": {},
   "outputs": [
    {
     "data": {
      "text/plain": [
       "['Muskan', 'Azalfa', 'Sana']"
      ]
     },
     "execution_count": 206,
     "metadata": {},
     "output_type": "execute_result"
    }
   ],
   "source": [
    "guests"
   ]
  },
  {
   "cell_type": "code",
   "execution_count": 207,
   "id": "4b938f2d-56c2-44de-a32c-bc5ade517ac7",
   "metadata": {},
   "outputs": [],
   "source": [
    "guest_3='Sana'"
   ]
  },
  {
   "cell_type": "code",
   "execution_count": 208,
   "id": "14e9c940-de81-4617-a6cc-66e16606c074",
   "metadata": {},
   "outputs": [
    {
     "name": "stdout",
     "output_type": "stream",
     "text": [
      "you're invited for the dinner\n"
     ]
    }
   ],
   "source": [
    "if guest_1=='Muskan' and guest_2=='Azalfa' and guest_3!='Kainat':\n",
    "    print(\"you're invited for the dinner\")"
   ]
  },
  {
   "cell_type": "code",
   "execution_count": 209,
   "id": "6550ee66-1879-49fe-b70f-bfc8227dc493",
   "metadata": {},
   "outputs": [],
   "source": [
    "#4_3"
   ]
  },
  {
   "cell_type": "code",
   "execution_count": 210,
   "id": "e01e8208-3820-444f-90bf-75c9e57bde1f",
   "metadata": {},
   "outputs": [
    {
     "data": {
      "text/plain": [
       "['Muskan', 'Azalfa', 'Sana']"
      ]
     },
     "execution_count": 210,
     "metadata": {},
     "output_type": "execute_result"
    }
   ],
   "source": [
    "guests"
   ]
  },
  {
   "cell_type": "code",
   "execution_count": 211,
   "id": "e728d1fb-28cc-4f42-8739-2229f7c2e794",
   "metadata": {},
   "outputs": [],
   "source": [
    "guests.insert(0,\"Mehreen\")"
   ]
  },
  {
   "cell_type": "code",
   "execution_count": 212,
   "id": "21180bb7-8940-4e36-84d4-aa7d7b82df7e",
   "metadata": {},
   "outputs": [
    {
     "data": {
      "text/plain": [
       "['Mehreen', 'Muskan', 'Azalfa', 'Sana']"
      ]
     },
     "execution_count": 212,
     "metadata": {},
     "output_type": "execute_result"
    }
   ],
   "source": [
    "guests"
   ]
  },
  {
   "cell_type": "code",
   "execution_count": 213,
   "id": "3ba6bf2a-b50f-42e0-adda-dc4868ebc5fd",
   "metadata": {},
   "outputs": [],
   "source": [
    "guests.insert(2,\"Aliza\")"
   ]
  },
  {
   "cell_type": "code",
   "execution_count": 214,
   "id": "ee6e11d7-0239-45f8-b940-87fba839917c",
   "metadata": {},
   "outputs": [
    {
     "data": {
      "text/plain": [
       "['Mehreen', 'Muskan', 'Aliza', 'Azalfa', 'Sana']"
      ]
     },
     "execution_count": 214,
     "metadata": {},
     "output_type": "execute_result"
    }
   ],
   "source": [
    "guests"
   ]
  },
  {
   "cell_type": "code",
   "execution_count": 215,
   "id": "bae0b508-5db6-4d26-8b41-1e7be8c83ae4",
   "metadata": {},
   "outputs": [],
   "source": [
    "guests.append(\"Fatima\")"
   ]
  },
  {
   "cell_type": "code",
   "execution_count": 216,
   "id": "edca4175-88a4-4423-93b1-432c2fb4a3ca",
   "metadata": {},
   "outputs": [
    {
     "data": {
      "text/plain": [
       "['Mehreen', 'Muskan', 'Aliza', 'Azalfa', 'Sana', 'Fatima']"
      ]
     },
     "execution_count": 216,
     "metadata": {},
     "output_type": "execute_result"
    }
   ],
   "source": [
    "guests"
   ]
  },
  {
   "cell_type": "code",
   "execution_count": 217,
   "id": "2ccc742b-e86b-419f-b703-00254d588ebb",
   "metadata": {},
   "outputs": [],
   "source": [
    "new_guests=guests"
   ]
  },
  {
   "cell_type": "code",
   "execution_count": 218,
   "id": "85c22f90-2220-45ec-b6b0-9e3a2856fa85",
   "metadata": {},
   "outputs": [
    {
     "data": {
      "text/plain": [
       "['Mehreen', 'Muskan', 'Aliza', 'Azalfa', 'Sana', 'Fatima']"
      ]
     },
     "execution_count": 218,
     "metadata": {},
     "output_type": "execute_result"
    }
   ],
   "source": [
    "new_guests"
   ]
  },
  {
   "cell_type": "code",
   "execution_count": 219,
   "id": "bc73e751-637d-45b4-bd09-596844cd3394",
   "metadata": {},
   "outputs": [],
   "source": [
    "new_guest_1=\"Mehreen\""
   ]
  },
  {
   "cell_type": "code",
   "execution_count": 220,
   "id": "71f4e940-bc35-416f-a968-363e21faf70a",
   "metadata": {},
   "outputs": [],
   "source": [
    "new_guest_2=\"Muskan\""
   ]
  },
  {
   "cell_type": "code",
   "execution_count": 221,
   "id": "286e9b30-0674-405e-9a0f-7b95f37d4c4c",
   "metadata": {},
   "outputs": [],
   "source": [
    "new_guest_3=\"Aliza\""
   ]
  },
  {
   "cell_type": "code",
   "execution_count": 222,
   "id": "448180b0-c23b-43b2-b201-c5538fbf4547",
   "metadata": {},
   "outputs": [],
   "source": [
    "new_guest_4=\"Azalfa\""
   ]
  },
  {
   "cell_type": "code",
   "execution_count": 223,
   "id": "3659cef3-b74d-4a3e-8ded-59a6a9868bfc",
   "metadata": {},
   "outputs": [],
   "source": [
    "new_guest_5=\"Sana\""
   ]
  },
  {
   "cell_type": "code",
   "execution_count": 224,
   "id": "fc58eda2-1c03-41ca-8d8f-cd7aedfc7535",
   "metadata": {},
   "outputs": [],
   "source": [
    "new_guest_6=\"Fatima\""
   ]
  },
  {
   "cell_type": "code",
   "execution_count": 225,
   "id": "79c34bb1-8aca-4f5c-865f-e2a2d8fdbf21",
   "metadata": {},
   "outputs": [
    {
     "name": "stdout",
     "output_type": "stream",
     "text": [
      "I found a bigger dinner table\n",
      "you're invited for the dinner\n"
     ]
    }
   ],
   "source": [
    "if new_guest_1==\"Mehreen\" and new_guest_2==\"Muskan\" and new_guest_3==\"Aliza\" and new_guest_4==\"Azalfa\" and new_guest_5==\"Sana\" and new_guest_6==\"Fatima\":\n",
    " print(\"I found a bigger dinner table\") \n",
    " print(\"you're invited for the dinner\") "
   ]
  },
  {
   "cell_type": "code",
   "execution_count": 226,
   "id": "e061a479-a193-424c-8e25-7cd138e58264",
   "metadata": {},
   "outputs": [],
   "source": [
    "#4_4"
   ]
  },
  {
   "cell_type": "code",
   "execution_count": 227,
   "id": "b037eeda-a21d-4600-9bb2-ffde2aaed9d2",
   "metadata": {},
   "outputs": [
    {
     "data": {
      "text/plain": [
       "['Mehreen', 'Muskan', 'Aliza', 'Azalfa', 'Sana', 'Fatima']"
      ]
     },
     "execution_count": 227,
     "metadata": {},
     "output_type": "execute_result"
    }
   ],
   "source": [
    "new_guests"
   ]
  },
  {
   "cell_type": "code",
   "execution_count": 228,
   "id": "1dbb8142-a709-4c27-8dcc-067947c0aaaf",
   "metadata": {},
   "outputs": [
    {
     "name": "stdout",
     "output_type": "stream",
     "text": [
      "I can invite only two people for the dinner\n"
     ]
    }
   ],
   "source": [
    "if new_guest_1==(\"Mehreen\" or new_guest_2==\"Muskan\" or new_guest_3==\"Aliza\" or new_guest_4==\"Azalfa\" or new_guest_5==\"Sana\" or new_guest_6==\"Fatima\")and(new_guest_1==\"Mehreen\" or new_guest_2==\"Muskan\" or new_guest_3==\"Aliza\" or new_guest_4==\"Azalfa\" or new_guest_5==\"Sana\" or new_guest_6==\"Fatima\"):\n",
    " print(\"I can invite only two people for the dinner\")"
   ]
  },
  {
   "cell_type": "code",
   "execution_count": 229,
   "id": "37035504-3742-4566-aba6-7d670a76a542",
   "metadata": {},
   "outputs": [
    {
     "name": "stdout",
     "output_type": "stream",
     "text": [
      "i'm sorry you can't invite\n"
     ]
    }
   ],
   "source": [
    "if new_guest_6==\"Fatima\":\n",
    " print(\"i'm sorry you can't invite\")"
   ]
  },
  {
   "cell_type": "code",
   "execution_count": 230,
   "id": "90f4dde5-00f3-41d0-8e2d-375f2e836d3b",
   "metadata": {},
   "outputs": [
    {
     "data": {
      "text/plain": [
       "'Fatima'"
      ]
     },
     "execution_count": 230,
     "metadata": {},
     "output_type": "execute_result"
    }
   ],
   "source": [
    "new_guests.pop()"
   ]
  },
  {
   "cell_type": "code",
   "execution_count": 231,
   "id": "19e8963c-9a90-4ad9-bef0-553c74af3d80",
   "metadata": {},
   "outputs": [
    {
     "data": {
      "text/plain": [
       "['Mehreen', 'Muskan', 'Aliza', 'Azalfa', 'Sana']"
      ]
     },
     "execution_count": 231,
     "metadata": {},
     "output_type": "execute_result"
    }
   ],
   "source": [
    "new_guests"
   ]
  },
  {
   "cell_type": "code",
   "execution_count": 232,
   "id": "67eba262-f2ee-4f46-9262-b4521af4d67f",
   "metadata": {},
   "outputs": [
    {
     "name": "stdout",
     "output_type": "stream",
     "text": [
      "i'm sorry you can't invite\n"
     ]
    }
   ],
   "source": [
    "if new_guest_5==\"Sana\":\n",
    " print(\"i'm sorry you can't invite\")"
   ]
  },
  {
   "cell_type": "code",
   "execution_count": 233,
   "id": "19ba8a5b-acd9-408a-8c27-965860977792",
   "metadata": {},
   "outputs": [
    {
     "data": {
      "text/plain": [
       "'Sana'"
      ]
     },
     "execution_count": 233,
     "metadata": {},
     "output_type": "execute_result"
    }
   ],
   "source": [
    "new_guests.pop()"
   ]
  },
  {
   "cell_type": "code",
   "execution_count": 234,
   "id": "2b5983a0-8e9f-4412-ac12-053fb3b18b18",
   "metadata": {},
   "outputs": [
    {
     "data": {
      "text/plain": [
       "['Mehreen', 'Muskan', 'Aliza', 'Azalfa']"
      ]
     },
     "execution_count": 234,
     "metadata": {},
     "output_type": "execute_result"
    }
   ],
   "source": [
    "new_guests"
   ]
  },
  {
   "cell_type": "code",
   "execution_count": 235,
   "id": "b9aedb6b-cf00-47ef-8ff7-e5d9cd6940ca",
   "metadata": {},
   "outputs": [
    {
     "name": "stdout",
     "output_type": "stream",
     "text": [
      "i'm sorry you can't invite\n"
     ]
    }
   ],
   "source": [
    "if new_guest_4==\"Azalfa\":\n",
    " print(\"i'm sorry you can't invite\")"
   ]
  },
  {
   "cell_type": "code",
   "execution_count": 236,
   "id": "3cf3474b-3386-4d35-bb60-aa4a31f5ae18",
   "metadata": {},
   "outputs": [
    {
     "data": {
      "text/plain": [
       "'Azalfa'"
      ]
     },
     "execution_count": 236,
     "metadata": {},
     "output_type": "execute_result"
    }
   ],
   "source": [
    "new_guests.pop()"
   ]
  },
  {
   "cell_type": "code",
   "execution_count": 237,
   "id": "2a71d452-a714-435d-84c3-0a7d8166ef1f",
   "metadata": {},
   "outputs": [
    {
     "data": {
      "text/plain": [
       "['Mehreen', 'Muskan', 'Aliza']"
      ]
     },
     "execution_count": 237,
     "metadata": {},
     "output_type": "execute_result"
    }
   ],
   "source": [
    "new_guests"
   ]
  },
  {
   "cell_type": "code",
   "execution_count": 238,
   "id": "7ad26393-a285-4e12-b402-da122d7510ff",
   "metadata": {},
   "outputs": [
    {
     "name": "stdout",
     "output_type": "stream",
     "text": [
      "i'm sorry you can't invite\n"
     ]
    }
   ],
   "source": [
    "if new_guest_3==\"Aliza\":\n",
    " print(\"i'm sorry you can't invite\")"
   ]
  },
  {
   "cell_type": "code",
   "execution_count": 239,
   "id": "c46d263d-88d1-4daa-8c83-9db42995c8ed",
   "metadata": {},
   "outputs": [
    {
     "data": {
      "text/plain": [
       "'Aliza'"
      ]
     },
     "execution_count": 239,
     "metadata": {},
     "output_type": "execute_result"
    }
   ],
   "source": [
    "new_guests.pop()"
   ]
  },
  {
   "cell_type": "code",
   "execution_count": 240,
   "id": "18d1df47-056a-48d1-9dcc-d5fd8f321a7a",
   "metadata": {},
   "outputs": [
    {
     "data": {
      "text/plain": [
       "['Mehreen', 'Muskan']"
      ]
     },
     "execution_count": 240,
     "metadata": {},
     "output_type": "execute_result"
    }
   ],
   "source": [
    "new_guests"
   ]
  },
  {
   "cell_type": "code",
   "execution_count": 241,
   "id": "79348df0-bfbb-4697-9580-f9f06de7d898",
   "metadata": {},
   "outputs": [
    {
     "name": "stdout",
     "output_type": "stream",
     "text": [
      "you're still invited\n"
     ]
    }
   ],
   "source": [
    "if new_guest_1==\"Mehreen\" and new_guest_2==\"Muskan\":\n",
    "    print(\"you're still invited\")"
   ]
  },
  {
   "cell_type": "code",
   "execution_count": 242,
   "id": "2bf654be-d86b-4903-aef2-41467fa23837",
   "metadata": {},
   "outputs": [],
   "source": [
    "del new_guests[0:2]"
   ]
  },
  {
   "cell_type": "code",
   "execution_count": 243,
   "id": "0462d0dd-224e-4873-8da3-b12ad8d7f5ae",
   "metadata": {},
   "outputs": [
    {
     "data": {
      "text/plain": [
       "[]"
      ]
     },
     "execution_count": 243,
     "metadata": {},
     "output_type": "execute_result"
    }
   ],
   "source": [
    " new_guests"
   ]
  },
  {
   "cell_type": "code",
   "execution_count": 244,
   "id": "86ccdc17-426c-4cbb-b54a-b12a23640c59",
   "metadata": {},
   "outputs": [],
   "source": [
    "#4_5"
   ]
  },
  {
   "cell_type": "code",
   "execution_count": 245,
   "id": "5580a3e5-ef4c-464c-8c26-3c494fcb7b68",
   "metadata": {},
   "outputs": [],
   "source": [
    "Rainbow_colors=[\"violet\",\"indigo\",\"blue\",\"green\",\"yellow\",\"orange\",\"red\"]"
   ]
  },
  {
   "cell_type": "code",
   "execution_count": 246,
   "id": "d8b97dbf-0a12-459b-8783-bc1c98ba7d45",
   "metadata": {},
   "outputs": [
    {
     "data": {
      "text/plain": [
       "['violet', 'indigo', 'blue', 'green', 'yellow', 'orange', 'red']"
      ]
     },
     "execution_count": 246,
     "metadata": {},
     "output_type": "execute_result"
    }
   ],
   "source": [
    "Rainbow_colors"
   ]
  },
  {
   "cell_type": "code",
   "execution_count": 247,
   "id": "d15f03de-e192-4cc9-9477-76e7d8a3371e",
   "metadata": {},
   "outputs": [],
   "source": [
    "#I want to get blue"
   ]
  },
  {
   "cell_type": "code",
   "execution_count": 248,
   "id": "6f2d2fcf-85f4-43c4-b95f-181f1b9b0f46",
   "metadata": {},
   "outputs": [
    {
     "data": {
      "text/plain": [
       "'blue'"
      ]
     },
     "execution_count": 248,
     "metadata": {},
     "output_type": "execute_result"
    }
   ],
   "source": [
    "Rainbow_colors[2]"
   ]
  },
  {
   "cell_type": "code",
   "execution_count": 249,
   "id": "e015fad4-e69b-4786-b88a-88d87ef8363c",
   "metadata": {},
   "outputs": [],
   "source": [
    "#Now I want to get indigo,blue,green,yellow"
   ]
  },
  {
   "cell_type": "code",
   "execution_count": 250,
   "id": "3167ac37-4ac2-4769-8eb7-6f0fef377ef6",
   "metadata": {},
   "outputs": [
    {
     "data": {
      "text/plain": [
       "['indigo', 'blue', 'green', 'yellow']"
      ]
     },
     "execution_count": 250,
     "metadata": {},
     "output_type": "execute_result"
    }
   ],
   "source": [
    "Rainbow_colors[1:5]"
   ]
  },
  {
   "cell_type": "code",
   "execution_count": 251,
   "id": "7b146278-3c28-4fc8-a73d-cd0b26dece38",
   "metadata": {},
   "outputs": [],
   "source": [
    "#I want to get violet, green and red"
   ]
  },
  {
   "cell_type": "code",
   "execution_count": 252,
   "id": "bbb1408e-ecfb-456a-ace5-a880dee1d23f",
   "metadata": {},
   "outputs": [
    {
     "data": {
      "text/plain": [
       "['violet', 'blue']"
      ]
     },
     "execution_count": 252,
     "metadata": {},
     "output_type": "execute_result"
    }
   ],
   "source": [
    "Rainbow_colors[0:4:2]"
   ]
  },
  {
   "cell_type": "code",
   "execution_count": 253,
   "id": "8ecd7f54-171d-4dcc-82e6-90a79767f66d",
   "metadata": {},
   "outputs": [],
   "source": [
    "#Marksheet Assigment"
   ]
  },
  {
   "cell_type": "code",
   "execution_count": 254,
   "id": "45f093ff-9dd3-4e32-b9df-ca295b8c6aaa",
   "metadata": {},
   "outputs": [],
   "source": [
    "urdu=18"
   ]
  },
  {
   "cell_type": "code",
   "execution_count": 255,
   "id": "02963e22-05c0-43f4-b7c2-d0dcef2e3eab",
   "metadata": {},
   "outputs": [],
   "source": [
    "english=19"
   ]
  },
  {
   "cell_type": "code",
   "execution_count": 256,
   "id": "1699ed18-6e2e-4bd1-82ae-72aa9f32c3cb",
   "metadata": {},
   "outputs": [],
   "source": [
    "mathematics=20"
   ]
  },
  {
   "cell_type": "code",
   "execution_count": 257,
   "id": "f6ae5519-f85f-4462-a7d0-f01691ebf30e",
   "metadata": {},
   "outputs": [],
   "source": [
    "islamiat=19"
   ]
  },
  {
   "cell_type": "code",
   "execution_count": 258,
   "id": "280258a2-dd7a-484e-a73a-d5949e2428f7",
   "metadata": {},
   "outputs": [],
   "source": [
    "science=20"
   ]
  },
  {
   "cell_type": "code",
   "execution_count": 259,
   "id": "cf0ef244-1398-4106-85c6-177364d3cc2a",
   "metadata": {},
   "outputs": [],
   "source": [
    "marks_obtained=urdu+english+mathematics+islamiat+science"
   ]
  },
  {
   "cell_type": "code",
   "execution_count": 260,
   "id": "b25161b8-1a06-4f59-9322-b11bba08e735",
   "metadata": {},
   "outputs": [
    {
     "data": {
      "text/plain": [
       "96"
      ]
     },
     "execution_count": 260,
     "metadata": {},
     "output_type": "execute_result"
    }
   ],
   "source": [
    "marks_obtained"
   ]
  },
  {
   "cell_type": "code",
   "execution_count": 261,
   "id": "d9fa67f6-ed1e-488c-9a0f-f9f00859e4b2",
   "metadata": {},
   "outputs": [],
   "source": [
    "total_marks=100"
   ]
  },
  {
   "cell_type": "code",
   "execution_count": 262,
   "id": "1a5f88b9-dac0-4d3f-997c-46e29aabe4d1",
   "metadata": {},
   "outputs": [],
   "source": [
    "marks_obtained=96"
   ]
  },
  {
   "cell_type": "code",
   "execution_count": 267,
   "id": "0a940014-d269-451f-bbcd-573cc9e36b41",
   "metadata": {},
   "outputs": [
    {
     "name": "stdout",
     "output_type": "stream",
     "text": [
      "Got A1 Grade\n"
     ]
    }
   ],
   "source": [
    "if marks_obtained>=90:\n",
    "    print(\"Got A1 Grade\")\n",
    "elif  marks_obtained>=80:\n",
    "    print(\"Got A Grade\")\n",
    "elif  marks_obtained>=70:\n",
    "    print(\"Got B Grade\")\n",
    "elif  marks_obtained>=60:\n",
    "    print(\"Got c Grade\")\n",
    "elif  marks_obtained>=50:\n",
    "    print(\"Got D Grade\")\n",
    "else:\n",
    "    print(\"you are fail, work hard\")"
   ]
  },
  {
   "cell_type": "code",
   "execution_count": null,
   "id": "ee10f37c-2e26-49c8-a797-3b3d3b6937e4",
   "metadata": {},
   "outputs": [],
   "source": []
  },
  {
   "cell_type": "code",
   "execution_count": null,
   "id": "25aea9d2-cbe6-408f-9023-00a390338d59",
   "metadata": {},
   "outputs": [],
   "source": []
  },
  {
   "cell_type": "code",
   "execution_count": null,
   "id": "e95a4c52-ed7f-471d-81c5-90bac6060f65",
   "metadata": {},
   "outputs": [],
   "source": []
  },
  {
   "cell_type": "code",
   "execution_count": null,
   "id": "5e530796-d52d-442a-8a25-b963402bbbf5",
   "metadata": {},
   "outputs": [],
   "source": []
  }
 ],
 "metadata": {
  "kernelspec": {
   "display_name": "Python 3 (ipykernel)",
   "language": "python",
   "name": "python3"
  },
  "language_info": {
   "codemirror_mode": {
    "name": "ipython",
    "version": 3
   },
   "file_extension": ".py",
   "mimetype": "text/x-python",
   "name": "python",
   "nbconvert_exporter": "python",
   "pygments_lexer": "ipython3",
   "version": "3.12.4"
  }
 },
 "nbformat": 4,
 "nbformat_minor": 5
}
