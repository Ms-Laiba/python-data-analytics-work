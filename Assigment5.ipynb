{
 "cells": [
  {
   "cell_type": "code",
   "execution_count": 424,
   "id": "b9de4bc2-c81e-434e-9458-ab690338bec1",
   "metadata": {},
   "outputs": [],
   "source": [
    "#Question1"
   ]
  },
  {
   "cell_type": "code",
   "execution_count": 425,
   "id": "2111eb12-dea0-4daa-8e46-e2346b00ebf5",
   "metadata": {},
   "outputs": [],
   "source": [
    "employee_1=(\"id=1001\",\"name=Ayesha\",\"department=Mathematics\")"
   ]
  },
  {
   "cell_type": "code",
   "execution_count": 426,
   "id": "3984883f-cc51-4b3e-87c1-a5dbf117f235",
   "metadata": {},
   "outputs": [],
   "source": [
    "employee_2=(\"id=1002\",\"name=Hunain\",\"department=Mathematics\")"
   ]
  },
  {
   "cell_type": "code",
   "execution_count": 427,
   "id": "3fbc2507-1cf1-4c63-85dd-ca2cbb90d5df",
   "metadata": {},
   "outputs": [],
   "source": [
    "employee_3=(\"id=1003\",\"name=Laiba\",\"department=Statistics\")"
   ]
  },
  {
   "cell_type": "code",
   "execution_count": 428,
   "id": "1bc27883-ba7b-43d1-970e-3c85c42aeb69",
   "metadata": {},
   "outputs": [],
   "source": [
    "employee=(employee_1,employee_2,employee_3)"
   ]
  },
  {
   "cell_type": "code",
   "execution_count": 429,
   "id": "3d7fc851-dc31-471f-9058-7e36460ef86f",
   "metadata": {},
   "outputs": [
    {
     "name": "stdout",
     "output_type": "stream",
     "text": [
      "(('id=1001', 'name=Ayesha', 'department=Mathematics'), ('id=1002', 'name=Hunain', 'department=Mathematics'), ('id=1003', 'name=Laiba', 'department=Statistics'))\n"
     ]
    }
   ],
   "source": [
    "print(employee)"
   ]
  },
  {
   "cell_type": "code",
   "execution_count": 430,
   "id": "fefbbcac-4e17-4fb0-bfd7-43960968cca2",
   "metadata": {},
   "outputs": [],
   "source": [
    "#Question2"
   ]
  },
  {
   "cell_type": "code",
   "execution_count": 431,
   "id": "93c0d165-4716-4a1c-85a1-0b1808255f3d",
   "metadata": {},
   "outputs": [],
   "source": [
    "item_1=(\"id=21\",\"description=laptop\",\"quantity=25\")"
   ]
  },
  {
   "cell_type": "code",
   "execution_count": 432,
   "id": "1e9a99ef-57e1-457d-9940-a3acb476bff0",
   "metadata": {},
   "outputs": [],
   "source": [
    "item_2=(\"id=25\",\"description=printer\",\"quantity=40\")"
   ]
  },
  {
   "cell_type": "code",
   "execution_count": 433,
   "id": "1aae22bb-6a1d-4299-b317-434ab0b5ab12",
   "metadata": {},
   "outputs": [],
   "source": [
    "item_3=(\"id=21\",\"description=mouse\",\"quantity=45\")"
   ]
  },
  {
   "cell_type": "code",
   "execution_count": 434,
   "id": "01b58ee3-62e5-465b-8233-9b1d57d137ab",
   "metadata": {},
   "outputs": [],
   "source": [
    "inventory_system=(item_1,item_2,item_3)"
   ]
  },
  {
   "cell_type": "code",
   "execution_count": 435,
   "id": "0f3cf4c2-8e22-478b-98c7-cb3947ec6506",
   "metadata": {},
   "outputs": [
    {
     "name": "stdout",
     "output_type": "stream",
     "text": [
      "(('id=21', 'description=laptop', 'quantity=25'), ('id=25', 'description=printer', 'quantity=40'), ('id=21', 'description=mouse', 'quantity=45'))\n"
     ]
    }
   ],
   "source": [
    "print(inventory_system)"
   ]
  },
  {
   "cell_type": "code",
   "execution_count": 436,
   "id": "fcdef187-db42-454c-8c07-746de780880f",
   "metadata": {},
   "outputs": [],
   "source": [
    "#Question3"
   ]
  },
  {
   "cell_type": "code",
   "execution_count": 437,
   "id": "9053bc90-424a-42a6-a506-6bab4ab8b774",
   "metadata": {},
   "outputs": [],
   "source": [
    "event_1=(\"date=Aug 18,2024\",\"time=2:00 pm\")"
   ]
  },
  {
   "cell_type": "code",
   "execution_count": 438,
   "id": "58bab428-8624-42b7-9829-a0027df2e104",
   "metadata": {},
   "outputs": [],
   "source": [
    "event_2=(\"date=Aug 19,2024\",\"time=3:00 pm\")"
   ]
  },
  {
   "cell_type": "code",
   "execution_count": 439,
   "id": "e51e8625-0deb-4a11-b0de-bba49a5e8970",
   "metadata": {},
   "outputs": [],
   "source": [
    "event_3=(\"date=Aug 20,2024\",\"time=4:00 pm\")"
   ]
  },
  {
   "cell_type": "code",
   "execution_count": 440,
   "id": "61f5b5fd-3127-4f2e-aebc-891126be35fa",
   "metadata": {},
   "outputs": [],
   "source": [
    "appointments=(event_1,event_2,event_3)"
   ]
  },
  {
   "cell_type": "code",
   "execution_count": 441,
   "id": "fd54d46f-012e-46f4-89e0-18c84c6486d2",
   "metadata": {},
   "outputs": [
    {
     "name": "stdout",
     "output_type": "stream",
     "text": [
      "(('date=Aug 18,2024', 'time=2:00 pm'), ('date=Aug 19,2024', 'time=3:00 pm'), ('date=Aug 20,2024', 'time=4:00 pm'))\n"
     ]
    }
   ],
   "source": [
    "print(appointments)"
   ]
  },
  {
   "cell_type": "code",
   "execution_count": 442,
   "id": "9a371d4b-7d1a-409c-93a2-bf10704242ed",
   "metadata": {},
   "outputs": [],
   "source": [
    "#Question4"
   ]
  },
  {
   "cell_type": "code",
   "execution_count": 443,
   "id": "ee0620fc-52ba-48f6-b586-6f9d26374f09",
   "metadata": {},
   "outputs": [],
   "source": [
    "employee=dict(\n",
    "    employee1=dict(id=\"001\",name=\"Hira\",designation=\"manager\", age=35, gender=\"female\"),\n",
    "     employee2=dict(id=\"002\",name=\"Hamza\",designation=\"incharge\", age=25, gender=\"male\"),\n",
    "     employee3=dict(id=\"003\",name=\"Hiba\",designation=\"Quality_checker\", age=45, gender=\"female\")\n",
    ")"
   ]
  },
  {
   "cell_type": "code",
   "execution_count": 444,
   "id": "0134c4eb-53b1-4984-bef1-f88961fc0103",
   "metadata": {},
   "outputs": [
    {
     "data": {
      "text/plain": [
       "{'employee1': {'id': '001',\n",
       "  'name': 'Hira',\n",
       "  'designation': 'manager',\n",
       "  'age': 35,\n",
       "  'gender': 'female'},\n",
       " 'employee2': {'id': '002',\n",
       "  'name': 'Hamza',\n",
       "  'designation': 'incharge',\n",
       "  'age': 25,\n",
       "  'gender': 'male'},\n",
       " 'employee3': {'id': '003',\n",
       "  'name': 'Hiba',\n",
       "  'designation': 'Quality_checker',\n",
       "  'age': 45,\n",
       "  'gender': 'female'}}"
      ]
     },
     "execution_count": 444,
     "metadata": {},
     "output_type": "execute_result"
    }
   ],
   "source": [
    "employee"
   ]
  },
  {
   "cell_type": "code",
   "execution_count": 445,
   "id": "757b8e76-d3ba-436d-a168-0669b4c71079",
   "metadata": {},
   "outputs": [],
   "source": [
    "#Question5"
   ]
  },
  {
   "cell_type": "code",
   "execution_count": 446,
   "id": "a1d5ce72-eb83-4b3f-b87e-0f1008ae5025",
   "metadata": {},
   "outputs": [],
   "source": [
    "students_scores=[\n",
    "   {\n",
    "    \"Hamza\":{\"Urdu\":65, \"English\":55, \"Mathematics\":85,\"Science\":66, \"Islamiat\":80},\n",
    "    \"Hooria\":{\"Urdu\":80, \"English\":76, \"Mathematics\":65,\"Science\":68, \"Islamiat\":90},\n",
    "    \"Hunain\":{\"Urdu\":75, \"English\":85, \"Mathematics\":100,\"Science\":87, \"Islamiat\":95} }\n",
    "]"
   ]
  },
  {
   "cell_type": "code",
   "execution_count": 447,
   "id": "5360edd9-8eca-4111-8e02-14318c0be52a",
   "metadata": {},
   "outputs": [
    {
     "data": {
      "text/plain": [
       "[{'Hamza': {'Urdu': 65,\n",
       "   'English': 55,\n",
       "   'Mathematics': 85,\n",
       "   'Science': 66,\n",
       "   'Islamiat': 80},\n",
       "  'Hooria': {'Urdu': 80,\n",
       "   'English': 76,\n",
       "   'Mathematics': 65,\n",
       "   'Science': 68,\n",
       "   'Islamiat': 90},\n",
       "  'Hunain': {'Urdu': 75,\n",
       "   'English': 85,\n",
       "   'Mathematics': 100,\n",
       "   'Science': 87,\n",
       "   'Islamiat': 95}}]"
      ]
     },
     "execution_count": 447,
     "metadata": {},
     "output_type": "execute_result"
    }
   ],
   "source": [
    "students_scores"
   ]
  },
  {
   "cell_type": "code",
   "execution_count": 448,
   "id": "c45a0733-d556-460b-8a87-0006dd18d757",
   "metadata": {},
   "outputs": [
    {
     "data": {
      "text/plain": [
       "{'Urdu': 80, 'English': 76, 'Mathematics': 65, 'Science': 68, 'Islamiat': 90}"
      ]
     },
     "execution_count": 448,
     "metadata": {},
     "output_type": "execute_result"
    }
   ],
   "source": [
    "students_scores[0][\"Hooria\"]"
   ]
  },
  {
   "cell_type": "code",
   "execution_count": 449,
   "id": "12a80ebe-c8ef-4428-a592-e0f3b3b39525",
   "metadata": {},
   "outputs": [],
   "source": [
    "#Question 6"
   ]
  },
  {
   "cell_type": "code",
   "execution_count": 450,
   "id": "e25f95b3-22c4-41c1-97f5-85e4fdc3c79a",
   "metadata": {},
   "outputs": [],
   "source": [
    "\n",
    "projects={\n",
    " \"data_collection\":[\"collect data from Karachi\",\"collect data from Islamabad\",\"collect data from Lahore\"],\n",
    " \"data_Analysis\":[\"Describe the data type\",\"keep the data in different files according to their types\",\"clean the data\"],\n",
    " \"decision_making\":[\"apply statistics\",\"draw oc-curves\",\"interpret the data\"]\n",
    "}\n"
   ]
  },
  {
   "cell_type": "code",
   "execution_count": 451,
   "id": "9032173b-6f3d-49dd-ab30-64a068daf137",
   "metadata": {},
   "outputs": [
    {
     "data": {
      "text/plain": [
       "'draw oc-curves'"
      ]
     },
     "execution_count": 451,
     "metadata": {},
     "output_type": "execute_result"
    }
   ],
   "source": [
    "projects[\"decision_making\"][1]"
   ]
  },
  {
   "cell_type": "code",
   "execution_count": 452,
   "id": "c0c707af-f317-4d0d-8edc-6081abb38dd5",
   "metadata": {},
   "outputs": [],
   "source": [
    "#Question 7"
   ]
  },
  {
   "cell_type": "code",
   "execution_count": 453,
   "id": "655f11fe-c660-4081-b8e3-eb293f909881",
   "metadata": {},
   "outputs": [],
   "source": [
    "courses={\n",
    "  \"Law_enforcement_procedures\":{\"legal framework\", \"Use of force\", \"Crime scene investigation\"},\n",
    "  \"Criminal_justice_system\":{\"Court procedures\",\"Evidence handling\",\"Witness interviewing\"},\n",
    "  \"Community_policing\":{\"Community engagement\",\"Problem solving\", \"Cultural sensitivity\"}   \n",
    "}"
   ]
  },
  {
   "cell_type": "code",
   "execution_count": 454,
   "id": "f453e542-6dbc-49c0-94c5-bdb7baa82c86",
   "metadata": {},
   "outputs": [
    {
     "data": {
      "text/plain": [
       "{'Community engagement', 'Cultural sensitivity', 'Problem solving'}"
      ]
     },
     "execution_count": 454,
     "metadata": {},
     "output_type": "execute_result"
    }
   ],
   "source": [
    "courses[\"Community_policing\"]"
   ]
  },
  {
   "cell_type": "code",
   "execution_count": 455,
   "id": "adb05c22-4db1-41b0-86b8-2a8486d571c3",
   "metadata": {},
   "outputs": [],
   "source": [
    "#Question 8"
   ]
  },
  {
   "cell_type": "code",
   "execution_count": 456,
   "id": "adaa8262-d4ce-49da-a0c7-1a8671f3998d",
   "metadata": {},
   "outputs": [],
   "source": [
    "product_1=(p1,price_1)=(\"fan\",1500)"
   ]
  },
  {
   "cell_type": "code",
   "execution_count": 457,
   "id": "80205f53-0540-4ead-820c-339bf6027b53",
   "metadata": {},
   "outputs": [],
   "source": [
    "product_2=(p2,price_2)=(\"washing_machine\",10000)"
   ]
  },
  {
   "cell_type": "code",
   "execution_count": 458,
   "id": "2bdead97-ba19-4aa9-ab39-9fc38b462da1",
   "metadata": {},
   "outputs": [],
   "source": [
    "product_3=(p3,price_3)=(\"Refrigerator\",150000)"
   ]
  },
  {
   "cell_type": "code",
   "execution_count": 459,
   "id": "fd12b749-062e-4489-b52c-998919c0bc35",
   "metadata": {},
   "outputs": [],
   "source": [
    "product_4=(p4,price_4)=(\"Bulb\",500)"
   ]
  },
  {
   "cell_type": "code",
   "execution_count": 460,
   "id": "5f595cae-acf8-40e3-aaf4-3d1bbf693f89",
   "metadata": {},
   "outputs": [],
   "source": [
    "product_5=(p5,price_5)=(\"Iron\",5000)"
   ]
  },
  {
   "cell_type": "code",
   "execution_count": 461,
   "id": "206291f3-e0c7-492c-a657-182884fdbdd9",
   "metadata": {},
   "outputs": [],
   "source": [
    "products=[product_1,product_2,product_3,product_4,product_5]"
   ]
  },
  {
   "cell_type": "code",
   "execution_count": 462,
   "id": "7830811d-2cb1-46ee-8104-45caeabc10eb",
   "metadata": {},
   "outputs": [
    {
     "data": {
      "text/plain": [
       "[('fan', 1500),\n",
       " ('washing_machine', 10000),\n",
       " ('Refrigerator', 150000),\n",
       " ('Bulb', 500),\n",
       " ('Iron', 5000)]"
      ]
     },
     "execution_count": 462,
     "metadata": {},
     "output_type": "execute_result"
    }
   ],
   "source": [
    "products"
   ]
  },
  {
   "cell_type": "code",
   "execution_count": 463,
   "id": "4190a7fe-3b9b-4f04-8c5d-e9ac62e12f6d",
   "metadata": {},
   "outputs": [],
   "source": [
    "threshold_price=6000"
   ]
  },
  {
   "cell_type": "code",
   "execution_count": 464,
   "id": "5bd6bcf5-0d42-4f69-9fa7-49d8818b9134",
   "metadata": {},
   "outputs": [
    {
     "name": "stdout",
     "output_type": "stream",
     "text": [
      "fan\n"
     ]
    }
   ],
   "source": [
    "if price_1<threshold_price:\n",
    "    print(p1)\n",
    "else:\n",
    "    print(\"The price of pdoduct is higher than threshold\")\n",
    "    "
   ]
  },
  {
   "cell_type": "code",
   "execution_count": 465,
   "id": "6ca73c96-4da1-45c1-b56d-5cbddc87972d",
   "metadata": {},
   "outputs": [
    {
     "name": "stdout",
     "output_type": "stream",
     "text": [
      "The price of pdoduct is higher than threshold\n"
     ]
    }
   ],
   "source": [
    "if price_2<threshold_price:\n",
    "    print(p2)\n",
    "else:\n",
    "    print(\"The price of pdoduct is higher than threshold\")\n",
    "    "
   ]
  },
  {
   "cell_type": "code",
   "execution_count": 466,
   "id": "d5ddbe25-9ba1-42eb-af22-f6a0d712f86e",
   "metadata": {},
   "outputs": [
    {
     "name": "stdout",
     "output_type": "stream",
     "text": [
      "The price of pdoduct is higher than threshold\n"
     ]
    }
   ],
   "source": [
    "if price_3<threshold_price:\n",
    "    print(p3)\n",
    "else:\n",
    "    print(\"The price of pdoduct is higher than threshold\")\n",
    "    "
   ]
  },
  {
   "cell_type": "code",
   "execution_count": 467,
   "id": "c36b29da-579c-49d4-a2ea-dcd87552e9a4",
   "metadata": {},
   "outputs": [
    {
     "name": "stdout",
     "output_type": "stream",
     "text": [
      "Bulb\n"
     ]
    }
   ],
   "source": [
    "if price_4<threshold_price:\n",
    "    print(p4)\n",
    "else:\n",
    "    print(\"The price of pdoduct is higher than threshold\")\n",
    "    "
   ]
  },
  {
   "cell_type": "code",
   "execution_count": 468,
   "id": "212baeaf-9e7b-4abe-9d9e-91af541ffa2f",
   "metadata": {},
   "outputs": [
    {
     "name": "stdout",
     "output_type": "stream",
     "text": [
      "Iron\n"
     ]
    }
   ],
   "source": [
    "if price_5<threshold_price:\n",
    "    print(p5)\n",
    "else:\n",
    "    print(\"The price of pdoduct is higher than threshold\")\n",
    "    "
   ]
  }
 ],
 "metadata": {
  "kernelspec": {
   "display_name": "Python 3 (ipykernel)",
   "language": "python",
   "name": "python3"
  },
  "language_info": {
   "codemirror_mode": {
    "name": "ipython",
    "version": 3
   },
   "file_extension": ".py",
   "mimetype": "text/x-python",
   "name": "python",
   "nbconvert_exporter": "python",
   "pygments_lexer": "ipython3",
   "version": "3.12.4"
  }
 },
 "nbformat": 4,
 "nbformat_minor": 5
}
