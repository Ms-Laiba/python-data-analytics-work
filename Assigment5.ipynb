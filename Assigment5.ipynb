{
 "cells": [
  {
   "cell_type": "code",
   "execution_count": 259,
   "id": "b9de4bc2-c81e-434e-9458-ab690338bec1",
   "metadata": {},
   "outputs": [],
   "source": [
    "#Question1"
   ]
  },
  {
   "cell_type": "code",
   "execution_count": 260,
   "id": "2111eb12-dea0-4daa-8e46-e2346b00ebf5",
   "metadata": {},
   "outputs": [],
   "source": [
    "employee_1=(\"id=1001\",\"name=Ayesha\",\"department=Mathematics\")"
   ]
  },
  {
   "cell_type": "code",
   "execution_count": 261,
   "id": "3984883f-cc51-4b3e-87c1-a5dbf117f235",
   "metadata": {},
   "outputs": [],
   "source": [
    "employee_2=(\"id=1002\",\"name=Hunain\",\"department=Mathematics\")"
   ]
  },
  {
   "cell_type": "code",
   "execution_count": 262,
   "id": "3fbc2507-1cf1-4c63-85dd-ca2cbb90d5df",
   "metadata": {},
   "outputs": [],
   "source": [
    "employee_3=(\"id=1003\",\"name=Laiba\",\"department=Statistics\")"
   ]
  },
  {
   "cell_type": "code",
   "execution_count": 263,
   "id": "1bc27883-ba7b-43d1-970e-3c85c42aeb69",
   "metadata": {},
   "outputs": [],
   "source": [
    "employee=(employee_1,employee_2,employee_3)"
   ]
  },
  {
   "cell_type": "code",
   "execution_count": 264,
   "id": "3d7fc851-dc31-471f-9058-7e36460ef86f",
   "metadata": {},
   "outputs": [
    {
     "name": "stdout",
     "output_type": "stream",
     "text": [
      "(('id=1001', 'name=Ayesha', 'department=Mathematics'), ('id=1002', 'name=Hunain', 'department=Mathematics'), ('id=1003', 'name=Laiba', 'department=Statistics'))\n"
     ]
    }
   ],
   "source": [
    "print(employee)"
   ]
  },
  {
   "cell_type": "code",
   "execution_count": 265,
   "id": "fefbbcac-4e17-4fb0-bfd7-43960968cca2",
   "metadata": {},
   "outputs": [],
   "source": [
    "#Question2"
   ]
  },
  {
   "cell_type": "code",
   "execution_count": 266,
   "id": "93c0d165-4716-4a1c-85a1-0b1808255f3d",
   "metadata": {},
   "outputs": [],
   "source": [
    "item_1=(\"id=21\",\"description=laptop\",\"quantity=25\")"
   ]
  },
  {
   "cell_type": "code",
   "execution_count": 267,
   "id": "1e9a99ef-57e1-457d-9940-a3acb476bff0",
   "metadata": {},
   "outputs": [],
   "source": [
    "item_2=(\"id=25\",\"description=printer\",\"quantity=40\")"
   ]
  },
  {
   "cell_type": "code",
   "execution_count": 268,
   "id": "1aae22bb-6a1d-4299-b317-434ab0b5ab12",
   "metadata": {},
   "outputs": [],
   "source": [
    "item_3=(\"id=21\",\"description=mouse\",\"quantity=45\")"
   ]
  },
  {
   "cell_type": "code",
   "execution_count": 269,
   "id": "01b58ee3-62e5-465b-8233-9b1d57d137ab",
   "metadata": {},
   "outputs": [],
   "source": [
    "inventory_system=(item_1,item_2,item_3)"
   ]
  },
  {
   "cell_type": "code",
   "execution_count": 270,
   "id": "0f3cf4c2-8e22-478b-98c7-cb3947ec6506",
   "metadata": {},
   "outputs": [
    {
     "name": "stdout",
     "output_type": "stream",
     "text": [
      "(('id=21', 'description=laptop', 'quantity=25'), ('id=25', 'description=printer', 'quantity=40'), ('id=21', 'description=mouse', 'quantity=45'))\n"
     ]
    }
   ],
   "source": [
    "print(inventory_system)"
   ]
  },
  {
   "cell_type": "code",
   "execution_count": 271,
   "id": "fcdef187-db42-454c-8c07-746de780880f",
   "metadata": {},
   "outputs": [],
   "source": [
    "#Question3"
   ]
  },
  {
   "cell_type": "code",
   "execution_count": 272,
   "id": "9053bc90-424a-42a6-a506-6bab4ab8b774",
   "metadata": {},
   "outputs": [],
   "source": [
    "event_1=(\"date=Aug 18,2024\",\"time=2:00 pm\")"
   ]
  },
  {
   "cell_type": "code",
   "execution_count": 273,
   "id": "58bab428-8624-42b7-9829-a0027df2e104",
   "metadata": {},
   "outputs": [],
   "source": [
    "event_2=(\"date=Aug 19,2024\",\"time=3:00 pm\")"
   ]
  },
  {
   "cell_type": "code",
   "execution_count": 274,
   "id": "e51e8625-0deb-4a11-b0de-bba49a5e8970",
   "metadata": {},
   "outputs": [],
   "source": [
    "event_3=(\"date=Aug 20,2024\",\"time=4:00 pm\")"
   ]
  },
  {
   "cell_type": "code",
   "execution_count": 275,
   "id": "61f5b5fd-3127-4f2e-aebc-891126be35fa",
   "metadata": {},
   "outputs": [],
   "source": [
    "appointments=(event_1,event_2,event_3)"
   ]
  },
  {
   "cell_type": "code",
   "execution_count": 276,
   "id": "fd54d46f-012e-46f4-89e0-18c84c6486d2",
   "metadata": {},
   "outputs": [
    {
     "name": "stdout",
     "output_type": "stream",
     "text": [
      "(('date=Aug 18,2024', 'time=2:00 pm'), ('date=Aug 19,2024', 'time=3:00 pm'), ('date=Aug 20,2024', 'time=4:00 pm'))\n"
     ]
    }
   ],
   "source": [
    "print(appointments)"
   ]
  },
  {
   "cell_type": "code",
   "execution_count": 277,
   "id": "9a371d4b-7d1a-409c-93a2-bf10704242ed",
   "metadata": {},
   "outputs": [],
   "source": [
    "#Question4"
   ]
  },
  {
   "cell_type": "code",
   "execution_count": 278,
   "id": "ee0620fc-52ba-48f6-b586-6f9d26374f09",
   "metadata": {},
   "outputs": [],
   "source": [
    "employee=dict(\n",
    "    employee1=dict(id=\"001\",name=\"Hira\",designation=\"manager\", age=35, gender=\"female\"),\n",
    "     employee2=dict(id=\"002\",name=\"Hamza\",designation=\"incharge\", age=25, gender=\"male\"),\n",
    "     employee3=dict(id=\"003\",name=\"Hiba\",designation=\"Quality_checker\", age=45, gender=\"female\")\n",
    ")"
   ]
  },
  {
   "cell_type": "code",
   "execution_count": 279,
   "id": "0134c4eb-53b1-4984-bef1-f88961fc0103",
   "metadata": {},
   "outputs": [
    {
     "data": {
      "text/plain": [
       "{'employee1': {'id': '001',\n",
       "  'name': 'Hira',\n",
       "  'designation': 'manager',\n",
       "  'age': 35,\n",
       "  'gender': 'female'},\n",
       " 'employee2': {'id': '002',\n",
       "  'name': 'Hamza',\n",
       "  'designation': 'incharge',\n",
       "  'age': 25,\n",
       "  'gender': 'male'},\n",
       " 'employee3': {'id': '003',\n",
       "  'name': 'Hiba',\n",
       "  'designation': 'Quality_checker',\n",
       "  'age': 45,\n",
       "  'gender': 'female'}}"
      ]
     },
     "execution_count": 279,
     "metadata": {},
     "output_type": "execute_result"
    }
   ],
   "source": [
    "employee"
   ]
  },
  {
   "cell_type": "code",
   "execution_count": 280,
   "id": "757b8e76-d3ba-436d-a168-0669b4c71079",
   "metadata": {},
   "outputs": [],
   "source": [
    "#Question6"
   ]
  },
  {
   "cell_type": "code",
   "execution_count": null,
   "id": "a1d5ce72-eb83-4b3f-b87e-0f1008ae5025",
   "metadata": {},
   "outputs": [],
   "source": []
  },
  {
   "cell_type": "code",
   "execution_count": null,
   "id": "5360edd9-8eca-4111-8e02-14318c0be52a",
   "metadata": {},
   "outputs": [],
   "source": []
  },
  {
   "cell_type": "code",
   "execution_count": null,
   "id": "c45a0733-d556-460b-8a87-0006dd18d757",
   "metadata": {},
   "outputs": [],
   "source": []
  }
 ],
 "metadata": {
  "kernelspec": {
   "display_name": "Python 3 (ipykernel)",
   "language": "python",
   "name": "python3"
  },
  "language_info": {
   "codemirror_mode": {
    "name": "ipython",
    "version": 3
   },
   "file_extension": ".py",
   "mimetype": "text/x-python",
   "name": "python",
   "nbconvert_exporter": "python",
   "pygments_lexer": "ipython3",
   "version": "3.12.4"
  }
 },
 "nbformat": 4,
 "nbformat_minor": 5
}
